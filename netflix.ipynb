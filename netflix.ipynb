{
 "cells": [
  {
   "cell_type": "code",
   "execution_count": 1,
   "metadata": {},
   "outputs": [
    {
     "name": "stdout",
     "output_type": "stream",
     "text": [
      "Collecting plotly_express\n",
      "  Using cached plotly_express-0.4.1-py2.py3-none-any.whl.metadata (1.7 kB)\n",
      "Requirement already satisfied: pandas>=0.20.0 in c:\\users\\devan\\anaconda3\\envs\\tf\\lib\\site-packages (from plotly_express) (2.2.2)\n",
      "Collecting plotly>=4.1.0 (from plotly_express)\n",
      "  Downloading plotly-5.24.1-py3-none-any.whl.metadata (7.3 kB)\n",
      "Collecting statsmodels>=0.9.0 (from plotly_express)\n",
      "  Downloading statsmodels-0.14.3-cp39-cp39-win_amd64.whl.metadata (9.5 kB)\n",
      "Requirement already satisfied: scipy>=0.18 in c:\\users\\devan\\anaconda3\\envs\\tf\\lib\\site-packages (from plotly_express) (1.13.1)\n",
      "Collecting patsy>=0.5 (from plotly_express)\n",
      "  Using cached patsy-0.5.6-py2.py3-none-any.whl.metadata (3.5 kB)\n",
      "Requirement already satisfied: numpy>=1.11 in c:\\users\\devan\\anaconda3\\envs\\tf\\lib\\site-packages (from plotly_express) (1.26.4)\n",
      "Requirement already satisfied: python-dateutil>=2.8.2 in c:\\users\\devan\\anaconda3\\envs\\tf\\lib\\site-packages (from pandas>=0.20.0->plotly_express) (2.9.0.post0)\n",
      "Requirement already satisfied: pytz>=2020.1 in c:\\users\\devan\\anaconda3\\envs\\tf\\lib\\site-packages (from pandas>=0.20.0->plotly_express) (2024.1)\n",
      "Requirement already satisfied: tzdata>=2022.7 in c:\\users\\devan\\anaconda3\\envs\\tf\\lib\\site-packages (from pandas>=0.20.0->plotly_express) (2023.3)\n",
      "Requirement already satisfied: six in c:\\users\\devan\\anaconda3\\envs\\tf\\lib\\site-packages (from patsy>=0.5->plotly_express) (1.16.0)\n",
      "Collecting tenacity>=6.2.0 (from plotly>=4.1.0->plotly_express)\n",
      "  Using cached tenacity-9.0.0-py3-none-any.whl.metadata (1.2 kB)\n",
      "Requirement already satisfied: packaging in c:\\users\\devan\\anaconda3\\envs\\tf\\lib\\site-packages (from plotly>=4.1.0->plotly_express) (24.1)\n",
      "Using cached plotly_express-0.4.1-py2.py3-none-any.whl (2.9 kB)\n",
      "Using cached patsy-0.5.6-py2.py3-none-any.whl (233 kB)\n",
      "Downloading plotly-5.24.1-py3-none-any.whl (19.1 MB)\n",
      "   ---------------------------------------- 0.0/19.1 MB ? eta -:--:--\n",
      "   - -------------------------------------- 0.5/19.1 MB 5.6 MB/s eta 0:00:04\n",
      "   - -------------------------------------- 0.8/19.1 MB 5.6 MB/s eta 0:00:04\n",
      "   --- ------------------------------------ 1.6/19.1 MB 3.5 MB/s eta 0:00:06\n",
      "   ----- ---------------------------------- 2.6/19.1 MB 4.0 MB/s eta 0:00:05\n",
      "   ------ --------------------------------- 2.9/19.1 MB 3.3 MB/s eta 0:00:05\n",
      "   ------- -------------------------------- 3.7/19.1 MB 3.2 MB/s eta 0:00:05\n",
      "   -------- ------------------------------- 4.2/19.1 MB 3.1 MB/s eta 0:00:05\n",
      "   --------- ------------------------------ 4.7/19.1 MB 3.1 MB/s eta 0:00:05\n",
      "   ----------- ---------------------------- 5.2/19.1 MB 3.0 MB/s eta 0:00:05\n",
      "   ------------ --------------------------- 5.8/19.1 MB 2.9 MB/s eta 0:00:05\n",
      "   ------------- -------------------------- 6.3/19.1 MB 2.8 MB/s eta 0:00:05\n",
      "   ------------- -------------------------- 6.6/19.1 MB 2.7 MB/s eta 0:00:05\n",
      "   -------------- ------------------------- 7.1/19.1 MB 2.7 MB/s eta 0:00:05\n",
      "   --------------- ------------------------ 7.3/19.1 MB 2.6 MB/s eta 0:00:05\n",
      "   ---------------- ----------------------- 7.9/19.1 MB 2.5 MB/s eta 0:00:05\n",
      "   ----------------- ---------------------- 8.4/19.1 MB 2.5 MB/s eta 0:00:05\n",
      "   ------------------ --------------------- 8.7/19.1 MB 2.4 MB/s eta 0:00:05\n",
      "   ------------------ --------------------- 8.9/19.1 MB 2.4 MB/s eta 0:00:05\n",
      "   ------------------- -------------------- 9.2/19.1 MB 2.3 MB/s eta 0:00:05\n",
      "   ------------------- -------------------- 9.4/19.1 MB 2.3 MB/s eta 0:00:05\n",
      "   -------------------- ------------------- 9.7/19.1 MB 2.3 MB/s eta 0:00:05\n",
      "   --------------------- ------------------ 10.2/19.1 MB 2.2 MB/s eta 0:00:04\n",
      "   ---------------------- ----------------- 10.5/19.1 MB 2.2 MB/s eta 0:00:04\n",
      "   ---------------------- ----------------- 10.7/19.1 MB 2.2 MB/s eta 0:00:04\n",
      "   ----------------------- ---------------- 11.0/19.1 MB 2.1 MB/s eta 0:00:04\n",
      "   ------------------------ --------------- 11.5/19.1 MB 2.1 MB/s eta 0:00:04\n",
      "   ------------------------ --------------- 11.8/19.1 MB 2.1 MB/s eta 0:00:04\n",
      "   ------------------------- -------------- 12.3/19.1 MB 2.1 MB/s eta 0:00:04\n",
      "   -------------------------- ------------- 12.6/19.1 MB 2.1 MB/s eta 0:00:04\n",
      "   --------------------------- ------------ 13.1/19.1 MB 2.1 MB/s eta 0:00:03\n",
      "   ---------------------------- ----------- 13.6/19.1 MB 2.1 MB/s eta 0:00:03\n",
      "   ----------------------------- ---------- 13.9/19.1 MB 2.1 MB/s eta 0:00:03\n",
      "   ------------------------------ --------- 14.4/19.1 MB 2.1 MB/s eta 0:00:03\n",
      "   ------------------------------ --------- 14.7/19.1 MB 2.1 MB/s eta 0:00:03\n",
      "   ------------------------------- -------- 15.2/19.1 MB 2.1 MB/s eta 0:00:02\n",
      "   -------------------------------- ------- 15.5/19.1 MB 2.1 MB/s eta 0:00:02\n",
      "   --------------------------------- ------ 16.0/19.1 MB 2.1 MB/s eta 0:00:02\n",
      "   ---------------------------------- ----- 16.5/19.1 MB 2.1 MB/s eta 0:00:02\n",
      "   ----------------------------------- ---- 17.0/19.1 MB 2.1 MB/s eta 0:00:01\n",
      "   ------------------------------------ --- 17.6/19.1 MB 2.1 MB/s eta 0:00:01\n",
      "   ------------------------------------- -- 18.1/19.1 MB 2.1 MB/s eta 0:00:01\n",
      "   -------------------------------------- - 18.4/19.1 MB 2.1 MB/s eta 0:00:01\n",
      "   ---------------------------------------  18.9/19.1 MB 2.1 MB/s eta 0:00:01\n",
      "   ---------------------------------------- 19.1/19.1 MB 2.1 MB/s eta 0:00:00\n",
      "Downloading statsmodels-0.14.3-cp39-cp39-win_amd64.whl (9.9 MB)\n",
      "   ---------------------------------------- 0.0/9.9 MB ? eta -:--:--\n",
      "   - -------------------------------------- 0.3/9.9 MB ? eta -:--:--\n",
      "   -- ------------------------------------- 0.5/9.9 MB 2.1 MB/s eta 0:00:05\n",
      "   --- ------------------------------------ 0.8/9.9 MB 1.5 MB/s eta 0:00:07\n",
      "   ----- ---------------------------------- 1.3/9.9 MB 1.6 MB/s eta 0:00:06\n",
      "   ------- -------------------------------- 1.8/9.9 MB 1.7 MB/s eta 0:00:05\n",
      "   -------- ------------------------------- 2.1/9.9 MB 1.8 MB/s eta 0:00:05\n",
      "   ---------- ----------------------------- 2.6/9.9 MB 1.8 MB/s eta 0:00:05\n",
      "   ------------ --------------------------- 3.1/9.9 MB 1.9 MB/s eta 0:00:04\n",
      "   ------------- -------------------------- 3.4/9.9 MB 1.9 MB/s eta 0:00:04\n",
      "   -------------- ------------------------- 3.7/9.9 MB 1.9 MB/s eta 0:00:04\n",
      "   ----------------- ---------------------- 4.2/9.9 MB 1.8 MB/s eta 0:00:04\n",
      "   ------------------- -------------------- 4.7/9.9 MB 1.9 MB/s eta 0:00:03\n",
      "   -------------------- ------------------- 5.0/9.9 MB 1.9 MB/s eta 0:00:03\n",
      "   ---------------------- ----------------- 5.5/9.9 MB 1.9 MB/s eta 0:00:03\n",
      "   ------------------------ --------------- 6.0/9.9 MB 1.9 MB/s eta 0:00:02\n",
      "   -------------------------- ------------- 6.6/9.9 MB 2.0 MB/s eta 0:00:02\n",
      "   ---------------------------- ----------- 7.1/9.9 MB 2.0 MB/s eta 0:00:02\n",
      "   ------------------------------ --------- 7.6/9.9 MB 2.0 MB/s eta 0:00:02\n",
      "   -------------------------------- ------- 8.1/9.9 MB 2.1 MB/s eta 0:00:01\n",
      "   ----------------------------------- ---- 8.7/9.9 MB 2.1 MB/s eta 0:00:01\n",
      "   ------------------------------------- -- 9.2/9.9 MB 2.1 MB/s eta 0:00:01\n",
      "   ---------------------------------------  9.7/9.9 MB 2.1 MB/s eta 0:00:01\n",
      "   ---------------------------------------- 9.9/9.9 MB 2.1 MB/s eta 0:00:00\n",
      "Using cached tenacity-9.0.0-py3-none-any.whl (28 kB)\n",
      "Installing collected packages: tenacity, patsy, plotly, statsmodels, plotly_express\n",
      "Successfully installed patsy-0.5.6 plotly-5.24.1 plotly_express-0.4.1 statsmodels-0.14.3 tenacity-9.0.0\n",
      "Note: you may need to restart the kernel to use updated packages.\n"
     ]
    }
   ],
   "source": [
    "pip install plotly_express"
   ]
  },
  {
   "cell_type": "code",
   "execution_count": 5,
   "metadata": {},
   "outputs": [],
   "source": [
    "import math\n",
    "import pandas as pd\n",
    "import matplotlib.pyplot as plt\n",
    "import seaborn as sns\n",
    "import plotly_express as px\n",
    "from sklearn.feature_extraction.text import CountVectorizer\n",
    "from sklearn.metrics.pairwise import cosine_similarity"
   ]
  },
  {
   "cell_type": "code",
   "execution_count": 6,
   "metadata": {},
   "outputs": [
    {
     "data": {
      "text/html": [
       "<div>\n",
       "<style scoped>\n",
       "    .dataframe tbody tr th:only-of-type {\n",
       "        vertical-align: middle;\n",
       "    }\n",
       "\n",
       "    .dataframe tbody tr th {\n",
       "        vertical-align: top;\n",
       "    }\n",
       "\n",
       "    .dataframe thead th {\n",
       "        text-align: right;\n",
       "    }\n",
       "</style>\n",
       "<table border=\"1\" class=\"dataframe\">\n",
       "  <thead>\n",
       "    <tr style=\"text-align: right;\">\n",
       "      <th></th>\n",
       "      <th>Genre</th>\n",
       "      <th>Tags</th>\n",
       "      <th>Languages</th>\n",
       "      <th>Country Availability</th>\n",
       "      <th>Runtime</th>\n",
       "      <th>Director</th>\n",
       "      <th>Writer</th>\n",
       "      <th>Actors</th>\n",
       "      <th>View Rating</th>\n",
       "      <th>IMDb Score</th>\n",
       "      <th>...</th>\n",
       "      <th>Awards Nominated For</th>\n",
       "      <th>Boxoffice</th>\n",
       "      <th>Release Date</th>\n",
       "      <th>Netflix Release Date</th>\n",
       "      <th>Production House</th>\n",
       "      <th>Netflix Link</th>\n",
       "      <th>Summary</th>\n",
       "      <th>Series or Movie</th>\n",
       "      <th>IMDb Votes</th>\n",
       "      <th>Image</th>\n",
       "    </tr>\n",
       "    <tr>\n",
       "      <th>Title</th>\n",
       "      <th></th>\n",
       "      <th></th>\n",
       "      <th></th>\n",
       "      <th></th>\n",
       "      <th></th>\n",
       "      <th></th>\n",
       "      <th></th>\n",
       "      <th></th>\n",
       "      <th></th>\n",
       "      <th></th>\n",
       "      <th></th>\n",
       "      <th></th>\n",
       "      <th></th>\n",
       "      <th></th>\n",
       "      <th></th>\n",
       "      <th></th>\n",
       "      <th></th>\n",
       "      <th></th>\n",
       "      <th></th>\n",
       "      <th></th>\n",
       "      <th></th>\n",
       "    </tr>\n",
       "  </thead>\n",
       "  <tbody>\n",
       "    <tr>\n",
       "      <th>Lets Fight Ghost</th>\n",
       "      <td>Crime, Drama, Fantasy, Horror, Romance</td>\n",
       "      <td>Comedy Programmes,Romantic TV Comedies,Horror ...</td>\n",
       "      <td>Swedish, Spanish</td>\n",
       "      <td>Thailand</td>\n",
       "      <td>&lt; 30 minutes</td>\n",
       "      <td>Tomas Alfredson</td>\n",
       "      <td>John Ajvide Lindqvist</td>\n",
       "      <td>Lina Leandersson, Kåre Hedebrant, Per Ragnar, ...</td>\n",
       "      <td>R</td>\n",
       "      <td>7.9</td>\n",
       "      <td>...</td>\n",
       "      <td>57.0</td>\n",
       "      <td>$21,22,065</td>\n",
       "      <td>12-Dec-08</td>\n",
       "      <td>04-03-2021</td>\n",
       "      <td>Canal+, Sandrew Metronome</td>\n",
       "      <td>https://www.netflix.com/watch/81415947</td>\n",
       "      <td>A med student with a supernatural gift tries t...</td>\n",
       "      <td>Series</td>\n",
       "      <td>205926.0</td>\n",
       "      <td>https://occ-0-4708-64.1.nflxso.net/dnm/api/v6/...</td>\n",
       "    </tr>\n",
       "    <tr>\n",
       "      <th>HOW TO BUILD A GIRL</th>\n",
       "      <td>Comedy</td>\n",
       "      <td>Dramas,Comedies,Films Based on Books,British</td>\n",
       "      <td>English</td>\n",
       "      <td>Canada</td>\n",
       "      <td>1-2 hour</td>\n",
       "      <td>Coky Giedroyc</td>\n",
       "      <td>Caitlin Moran</td>\n",
       "      <td>Cleo, Paddy Considine, Beanie Feldstein, Dónal...</td>\n",
       "      <td>R</td>\n",
       "      <td>5.8</td>\n",
       "      <td>...</td>\n",
       "      <td>NaN</td>\n",
       "      <td>$70,632</td>\n",
       "      <td>08-May-20</td>\n",
       "      <td>04-03-2021</td>\n",
       "      <td>Film 4, Monumental Pictures, Lionsgate</td>\n",
       "      <td>https://www.netflix.com/watch/81041267</td>\n",
       "      <td>When nerdy Johanna moves to London, things get...</td>\n",
       "      <td>Movie</td>\n",
       "      <td>2838.0</td>\n",
       "      <td>https://occ-0-1081-999.1.nflxso.net/dnm/api/v6...</td>\n",
       "    </tr>\n",
       "  </tbody>\n",
       "</table>\n",
       "<p>2 rows × 21 columns</p>\n",
       "</div>"
      ],
      "text/plain": [
       "                                                      Genre  \\\n",
       "Title                                                         \n",
       "Lets Fight Ghost     Crime, Drama, Fantasy, Horror, Romance   \n",
       "HOW TO BUILD A GIRL                                  Comedy   \n",
       "\n",
       "                                                                  Tags  \\\n",
       "Title                                                                    \n",
       "Lets Fight Ghost     Comedy Programmes,Romantic TV Comedies,Horror ...   \n",
       "HOW TO BUILD A GIRL       Dramas,Comedies,Films Based on Books,British   \n",
       "\n",
       "                            Languages Country Availability       Runtime  \\\n",
       "Title                                                                      \n",
       "Lets Fight Ghost     Swedish, Spanish             Thailand  < 30 minutes   \n",
       "HOW TO BUILD A GIRL           English               Canada      1-2 hour   \n",
       "\n",
       "                            Director                 Writer  \\\n",
       "Title                                                         \n",
       "Lets Fight Ghost     Tomas Alfredson  John Ajvide Lindqvist   \n",
       "HOW TO BUILD A GIRL    Coky Giedroyc          Caitlin Moran   \n",
       "\n",
       "                                                                Actors  \\\n",
       "Title                                                                    \n",
       "Lets Fight Ghost     Lina Leandersson, Kåre Hedebrant, Per Ragnar, ...   \n",
       "HOW TO BUILD A GIRL  Cleo, Paddy Considine, Beanie Feldstein, Dónal...   \n",
       "\n",
       "                    View Rating  IMDb Score  ...  Awards Nominated For  \\\n",
       "Title                                        ...                         \n",
       "Lets Fight Ghost              R         7.9  ...                  57.0   \n",
       "HOW TO BUILD A GIRL           R         5.8  ...                   NaN   \n",
       "\n",
       "                      Boxoffice Release Date Netflix Release Date  \\\n",
       "Title                                                               \n",
       "Lets Fight Ghost     $21,22,065    12-Dec-08           04-03-2021   \n",
       "HOW TO BUILD A GIRL     $70,632    08-May-20           04-03-2021   \n",
       "\n",
       "                                           Production House  \\\n",
       "Title                                                         \n",
       "Lets Fight Ghost                  Canal+, Sandrew Metronome   \n",
       "HOW TO BUILD A GIRL  Film 4, Monumental Pictures, Lionsgate   \n",
       "\n",
       "                                               Netflix Link  \\\n",
       "Title                                                         \n",
       "Lets Fight Ghost     https://www.netflix.com/watch/81415947   \n",
       "HOW TO BUILD A GIRL  https://www.netflix.com/watch/81041267   \n",
       "\n",
       "                                                               Summary  \\\n",
       "Title                                                                    \n",
       "Lets Fight Ghost     A med student with a supernatural gift tries t...   \n",
       "HOW TO BUILD A GIRL  When nerdy Johanna moves to London, things get...   \n",
       "\n",
       "                    Series or Movie IMDb Votes  \\\n",
       "Title                                            \n",
       "Lets Fight Ghost             Series   205926.0   \n",
       "HOW TO BUILD A GIRL           Movie     2838.0   \n",
       "\n",
       "                                                                 Image  \n",
       "Title                                                                   \n",
       "Lets Fight Ghost     https://occ-0-4708-64.1.nflxso.net/dnm/api/v6/...  \n",
       "HOW TO BUILD A GIRL  https://occ-0-1081-999.1.nflxso.net/dnm/api/v6...  \n",
       "\n",
       "[2 rows x 21 columns]"
      ]
     },
     "execution_count": 6,
     "metadata": {},
     "output_type": "execute_result"
    }
   ],
   "source": [
    "netflix_data = pd.read_csv('Netflix.csv',encoding='latin-1', index_col = 'Title')\n",
    "netflix_data.head(2)"
   ]
  },
  {
   "cell_type": "code",
   "execution_count": 7,
   "metadata": {},
   "outputs": [],
   "source": [
    "netflix_data.index = netflix_data.index.str.title()"
   ]
  },
  {
   "cell_type": "code",
   "execution_count": 4,
   "metadata": {},
   "outputs": [
    {
     "data": {
      "image/png": "[encoded data removed]",
      "text/plain": [
       "<Figure size 640x480 with 1 Axes>"
      ]
     },
     "metadata": {},
     "output_type": "display_data"
    }
   ],
   "source": [
    "color = ['blue', 'yellow']\n",
    "label = ['Series', 'Movies']\n",
    "sizes = [netflix_data[netflix_data['Series or Movie'] == 'Series'].size, netflix_data[netflix_data['Series or Movie'] == 'Movie'].size]\n",
    "explode = (0.1, 0)\n",
    "fig, ax = plt.subplots()\n",
    "ax.pie(sizes, explode, label, color, '%2.2f%%')\n",
    "ax.axis('equal')\n",
    "plt.show()"
   ]
  },
  {
   "cell_type": "code",
   "execution_count": 8,
   "metadata": {},
   "outputs": [],
   "source": [
    "netflix_data.rename(columns={'View Rating':'ViewerRating'}, inplace=True)"
   ]
  },
  {
   "cell_type": "code",
   "execution_count": 6,
   "metadata": {},
   "outputs": [
    {
     "name": "stdout",
     "output_type": "stream",
     "text": [
      "184\n"
     ]
    }
   ],
   "source": [
    "Language = netflix_data.Languages.str.get_dummies(',')\n",
    "Lang = Language.columns.str.strip().values.tolist()\n",
    "Language = netflix_data['Languages']\n",
    "Language_Count = dict()\n",
    "for i in Lang:\n",
    "    p = Language.str.count(i).sum()\n",
    "    Language_Count[i] = int(p)\n",
    "print(len(Language_Count))"
   ]
  },
  {
   "cell_type": "code",
   "execution_count": 10,
   "metadata": {},
   "outputs": [
    {
     "name": "stdout",
     "output_type": "stream",
     "text": [
      "28\n"
     ]
    }
   ],
   "source": [
    "Genres = netflix_data.Genre.str.get_dummies(',')\n",
    "Genre = Genres.columns.str.strip().values.tolist()\n",
    "Genres = netflix_data['Genre']\n",
    "Genre_Count = dict()\n",
    "for i in Genre:\n",
    "    p = Genres.str.count(i).sum()\n",
    "    Genre_Count[i] = int(p)\n",
    "print(len(Genre_Count))"
   ]
  },
  {
   "cell_type": "code",
   "execution_count": 11,
   "metadata": {},
   "outputs": [],
   "source": [
    "Genre_Count = {k: v for k, v in sorted(Genre_Count.items(), key=lambda item: item[1], reverse = True)}\n",
    "top_genres = {\"Genre\": list(Genre_Count.keys()), \"Count\": list(Genre_Count.values())}"
   ]
  },
  {
   "cell_type": "code",
   "execution_count": 12,
   "metadata": {},
   "outputs": [],
   "source": [
    "fig = px.bar(pd.DataFrame(top_genres)[:10], y = 'Genre', x = 'Count', orientation = 'h', title = 'Genres with maximum content', color = 'Count', color_continuous_scale = px.colors.qualitative.Prism).update_yaxes(categoryorder = 'total ascending')\n"
   ]
  },
  {
   "cell_type": "code",
   "execution_count": 12,
   "metadata": {},
   "outputs": [
    {
     "data": {
      "text/plain": [
       "<Axes: xlabel='IMDb Score', ylabel='Title'>"
      ]
     },
     "execution_count": 12,
     "metadata": {},
     "output_type": "execute_result"
    },
    {
     "data": {
      "image/png": "[encoded data removed]",
      "text/plain": [
       "<Figure size 1500x500 with 1 Axes>"
      ]
     },
     "metadata": {},
     "output_type": "display_data"
    }
   ],
   "source": [
    "top_15 = netflix_data.sort_values(by = ['IMDb Score'], ascending = False).head(15)\n",
    "plt.figure(figsize = (15,5))\n",
    "sns.barplot(data = top_15, y = top_15.index, x = \"IMDb Score\")"
   ]
  },
  {
   "cell_type": "code",
   "execution_count": 13,
   "metadata": {},
   "outputs": [],
   "source": [
    "netflix_data = netflix_data[~netflix_data.index.duplicated()]"
   ]
  },
  {
   "cell_type": "code",
   "execution_count": 14,
   "metadata": {},
   "outputs": [
    {
     "data": {
      "text/plain": [
       "0"
      ]
     },
     "execution_count": 14,
     "metadata": {},
     "output_type": "execute_result"
    }
   ],
   "source": [
    "netflix_data.index.duplicated().sum()"
   ]
  },
  {
   "cell_type": "code",
   "execution_count": 15,
   "metadata": {},
   "outputs": [
    {
     "data": {
      "text/plain": [
       "0"
      ]
     },
     "execution_count": 15,
     "metadata": {},
     "output_type": "execute_result"
    }
   ],
   "source": [
    "netflix_data.index.isnull().sum()"
   ]
  },
  {
   "cell_type": "code",
   "execution_count": 16,
   "metadata": {},
   "outputs": [
    {
     "name": "stdout",
     "output_type": "stream",
     "text": [
      "25\n"
     ]
    }
   ],
   "source": [
    "netflix_data['Genre'] = netflix_data['Genre'].astype('str')\n",
    "print((netflix_data['Genre'] == 'nan').sum())"
   ]
  },
  {
   "cell_type": "code",
   "execution_count": 17,
   "metadata": {},
   "outputs": [
    {
     "name": "stdout",
     "output_type": "stream",
     "text": [
      "36\n"
     ]
    }
   ],
   "source": [
    "netflix_data['Tags'] = netflix_data['Tags'].astype('str')\n",
    "print((netflix_data['Tags'] == 'nan').sum())"
   ]
  },
  {
   "cell_type": "code",
   "execution_count": 18,
   "metadata": {},
   "outputs": [
    {
     "name": "stdout",
     "output_type": "stream",
     "text": [
      "0\n"
     ]
    }
   ],
   "source": [
    "print(((netflix_data['Genre'] == 'nan') & (netflix_data['Tags'] == 'nan')).sum())"
   ]
  },
  {
   "cell_type": "code",
   "execution_count": 19,
   "metadata": {},
   "outputs": [
    {
     "name": "stdout",
     "output_type": "stream",
     "text": [
      "        IMDb Score\n",
      "count  9125.000000\n",
      "mean      6.955134\n",
      "std       0.896501\n",
      "min       1.600000\n",
      "25%       6.500000\n",
      "50%       7.000000\n",
      "75%       7.500000\n",
      "max       9.700000\n"
     ]
    },
    {
     "data": {
      "text/plain": [
       "0    6.6\n",
       "Name: IMDb Score, dtype: float64"
      ]
     },
     "execution_count": 19,
     "metadata": {},
     "output_type": "execute_result"
    }
   ],
   "source": [
    "print(netflix_data[['IMDb Score']].describe())\n",
    "netflix_data['IMDb Score'].mode()"
   ]
  },
  {
   "cell_type": "code",
   "execution_count": 19,
   "metadata": {},
   "outputs": [
    {
     "name": "stdout",
     "output_type": "stream",
     "text": [
      "        IMDb Score\n",
      "count  9132.000000\n",
      "mean      6.954862\n",
      "std       0.896212\n",
      "min       1.600000\n",
      "25%       6.500000\n",
      "50%       7.000000\n",
      "75%       7.500000\n",
      "max       9.700000\n"
     ]
    }
   ],
   "source": [
    "netflix_data['IMDb Score'] = netflix_data['IMDb Score'].apply(lambda x: 6.6 if x == 0 or math.isnan(x) else x)\n",
    "print(netflix_data[['IMDb Score']].describe())"
   ]
  },
  {
   "cell_type": "code",
   "execution_count": 20,
   "metadata": {},
   "outputs": [],
   "source": [
    "netflix_data['Actors'] = netflix_data['Actors'].astype('str')\n",
    "netflix_data['ViewerRating'] = netflix_data['ViewerRating'].astype('str')"
   ]
  },
  {
   "cell_type": "code",
   "execution_count": 21,
   "metadata": {},
   "outputs": [],
   "source": [
    "def prepare_data(x):\n",
    "        return str.lower(x.replace(\" \", \"\"))"
   ]
  },
  {
   "cell_type": "code",
   "execution_count": 22,
   "metadata": {},
   "outputs": [],
   "source": [
    "new_features = ['Genre', 'Tags', 'Actors', 'ViewerRating']\n",
    "selected_data = netflix_data[new_features] "
   ]
  },
  {
   "cell_type": "code",
   "execution_count": 23,
   "metadata": {},
   "outputs": [
    {
     "data": {
      "text/html": [
       "<div>\n",
       "<style scoped>\n",
       "    .dataframe tbody tr th:only-of-type {\n",
       "        vertical-align: middle;\n",
       "    }\n",
       "\n",
       "    .dataframe tbody tr th {\n",
       "        vertical-align: top;\n",
       "    }\n",
       "\n",
       "    .dataframe thead th {\n",
       "        text-align: right;\n",
       "    }\n",
       "</style>\n",
       "<table border=\"1\" class=\"dataframe\">\n",
       "  <thead>\n",
       "    <tr style=\"text-align: right;\">\n",
       "      <th></th>\n",
       "      <th>Genre</th>\n",
       "      <th>Tags</th>\n",
       "      <th>Actors</th>\n",
       "      <th>ViewerRating</th>\n",
       "    </tr>\n",
       "    <tr>\n",
       "      <th>Title</th>\n",
       "      <th></th>\n",
       "      <th></th>\n",
       "      <th></th>\n",
       "      <th></th>\n",
       "    </tr>\n",
       "  </thead>\n",
       "  <tbody>\n",
       "    <tr>\n",
       "      <th>letsfightghost</th>\n",
       "      <td>crime,drama,fantasy,horror,romance</td>\n",
       "      <td>comedyprogrammes,romantictvcomedies,horrorprog...</td>\n",
       "      <td>linaleandersson,kårehedebrant,perragnar,henrik...</td>\n",
       "      <td>r</td>\n",
       "    </tr>\n",
       "    <tr>\n",
       "      <th>howtobuildagirl</th>\n",
       "      <td>comedy</td>\n",
       "      <td>dramas,comedies,filmsbasedonbooks,british</td>\n",
       "      <td>cleo,paddyconsidine,beaniefeldstein,dónalfinn</td>\n",
       "      <td>r</td>\n",
       "    </tr>\n",
       "  </tbody>\n",
       "</table>\n",
       "</div>"
      ],
      "text/plain": [
       "                                              Genre  \\\n",
       "Title                                                 \n",
       "letsfightghost   crime,drama,fantasy,horror,romance   \n",
       "howtobuildagirl                              comedy   \n",
       "\n",
       "                                                              Tags  \\\n",
       "Title                                                                \n",
       "letsfightghost   comedyprogrammes,romantictvcomedies,horrorprog...   \n",
       "howtobuildagirl          dramas,comedies,filmsbasedonbooks,british   \n",
       "\n",
       "                                                            Actors  \\\n",
       "Title                                                                \n",
       "letsfightghost   linaleandersson,kårehedebrant,perragnar,henrik...   \n",
       "howtobuildagirl      cleo,paddyconsidine,beaniefeldstein,dónalfinn   \n",
       "\n",
       "                ViewerRating  \n",
       "Title                         \n",
       "letsfightghost             r  \n",
       "howtobuildagirl            r  "
      ]
     },
     "execution_count": 23,
     "metadata": {},
     "output_type": "execute_result"
    }
   ],
   "source": [
    "for new_feature in new_features:\n",
    "    selected_data.loc[:, new_feature] = selected_data.loc[:, new_feature].apply(prepare_data)\n",
    "selected_data.index = selected_data.index.str.lower()\n",
    "selected_data.index = selected_data.index.str.replace(\" \",'')\n",
    "selected_data.head(2)"
   ]
  },
  {
   "cell_type": "code",
   "execution_count": 24,
   "metadata": {},
   "outputs": [],
   "source": [
    "def create_soup(x):\n",
    "    return x['Genre'] + ' ' + x['Tags'] + ' ' +x['Actors']+' '+ x['ViewerRating']"
   ]
  },
  {
   "cell_type": "code",
   "execution_count": 26,
   "metadata": {},
   "outputs": [
    {
     "name": "stderr",
     "output_type": "stream",
     "text": [
      "C:\\Users\\devan\\AppData\\Local\\Temp\\ipykernel_22440\\1181114372.py:1: SettingWithCopyWarning:\n",
      "\n",
      "\n",
      "A value is trying to be set on a copy of a slice from a DataFrame.\n",
      "Try using .loc[row_indexer,col_indexer] = value instead\n",
      "\n",
      "See the caveats in the documentation: https://pandas.pydata.org/pandas-docs/stable/user_guide/indexing.html#returning-a-view-versus-a-copy\n",
      "\n"
     ]
    },
    {
     "data": {
      "text/html": [
       "<div>\n",
       "<style scoped>\n",
       "    .dataframe tbody tr th:only-of-type {\n",
       "        vertical-align: middle;\n",
       "    }\n",
       "\n",
       "    .dataframe tbody tr th {\n",
       "        vertical-align: top;\n",
       "    }\n",
       "\n",
       "    .dataframe thead th {\n",
       "        text-align: right;\n",
       "    }\n",
       "</style>\n",
       "<table border=\"1\" class=\"dataframe\">\n",
       "  <thead>\n",
       "    <tr style=\"text-align: right;\">\n",
       "      <th></th>\n",
       "      <th>Genre</th>\n",
       "      <th>Tags</th>\n",
       "      <th>Actors</th>\n",
       "      <th>ViewerRating</th>\n",
       "      <th>soup</th>\n",
       "    </tr>\n",
       "    <tr>\n",
       "      <th>Title</th>\n",
       "      <th></th>\n",
       "      <th></th>\n",
       "      <th></th>\n",
       "      <th></th>\n",
       "      <th></th>\n",
       "    </tr>\n",
       "  </thead>\n",
       "  <tbody>\n",
       "    <tr>\n",
       "      <th>letsfightghost</th>\n",
       "      <td>crime,drama,fantasy,horror,romance</td>\n",
       "      <td>comedyprogrammes,romantictvcomedies,horrorprog...</td>\n",
       "      <td>linaleandersson,kårehedebrant,perragnar,henrik...</td>\n",
       "      <td>r</td>\n",
       "      <td>crime,drama,fantasy,horror,romance comedyprogr...</td>\n",
       "    </tr>\n",
       "    <tr>\n",
       "      <th>howtobuildagirl</th>\n",
       "      <td>comedy</td>\n",
       "      <td>dramas,comedies,filmsbasedonbooks,british</td>\n",
       "      <td>cleo,paddyconsidine,beaniefeldstein,dónalfinn</td>\n",
       "      <td>r</td>\n",
       "      <td>comedy dramas,comedies,filmsbasedonbooks,briti...</td>\n",
       "    </tr>\n",
       "  </tbody>\n",
       "</table>\n",
       "</div>"
      ],
      "text/plain": [
       "                                              Genre  \\\n",
       "Title                                                 \n",
       "letsfightghost   crime,drama,fantasy,horror,romance   \n",
       "howtobuildagirl                              comedy   \n",
       "\n",
       "                                                              Tags  \\\n",
       "Title                                                                \n",
       "letsfightghost   comedyprogrammes,romantictvcomedies,horrorprog...   \n",
       "howtobuildagirl          dramas,comedies,filmsbasedonbooks,british   \n",
       "\n",
       "                                                            Actors  \\\n",
       "Title                                                                \n",
       "letsfightghost   linaleandersson,kårehedebrant,perragnar,henrik...   \n",
       "howtobuildagirl      cleo,paddyconsidine,beaniefeldstein,dónalfinn   \n",
       "\n",
       "                ViewerRating  \\\n",
       "Title                          \n",
       "letsfightghost             r   \n",
       "howtobuildagirl            r   \n",
       "\n",
       "                                                              soup  \n",
       "Title                                                               \n",
       "letsfightghost   crime,drama,fantasy,horror,romance comedyprogr...  \n",
       "howtobuildagirl  comedy dramas,comedies,filmsbasedonbooks,briti...  "
      ]
     },
     "execution_count": 26,
     "metadata": {},
     "output_type": "execute_result"
    }
   ],
   "source": [
    "selected_data.loc[:, 'soup'] = selected_data.apply(create_soup, axis = 1)\n",
    "selected_data.head(2)"
   ]
  },
  {
   "cell_type": "code",
   "execution_count": 27,
   "metadata": {},
   "outputs": [],
   "source": [
    "count = CountVectorizer(stop_words='english')\n",
    "count_matrix = count.fit_transform(selected_data['soup'])\n",
    "cosine_sim2 = cosine_similarity(count_matrix, count_matrix)"
   ]
  },
  {
   "cell_type": "code",
   "execution_count": 28,
   "metadata": {},
   "outputs": [
    {
     "data": {
      "text/html": [
       "<div>\n",
       "<style scoped>\n",
       "    .dataframe tbody tr th:only-of-type {\n",
       "        vertical-align: middle;\n",
       "    }\n",
       "\n",
       "    .dataframe tbody tr th {\n",
       "        vertical-align: top;\n",
       "    }\n",
       "\n",
       "    .dataframe thead th {\n",
       "        text-align: right;\n",
       "    }\n",
       "</style>\n",
       "<table border=\"1\" class=\"dataframe\">\n",
       "  <thead>\n",
       "    <tr style=\"text-align: right;\">\n",
       "      <th></th>\n",
       "      <th>Title</th>\n",
       "      <th>Genre</th>\n",
       "      <th>Tags</th>\n",
       "      <th>Actors</th>\n",
       "      <th>ViewerRating</th>\n",
       "      <th>soup</th>\n",
       "    </tr>\n",
       "  </thead>\n",
       "  <tbody>\n",
       "    <tr>\n",
       "      <th>0</th>\n",
       "      <td>letsfightghost</td>\n",
       "      <td>crime,drama,fantasy,horror,romance</td>\n",
       "      <td>comedyprogrammes,romantictvcomedies,horrorprog...</td>\n",
       "      <td>linaleandersson,kårehedebrant,perragnar,henrik...</td>\n",
       "      <td>r</td>\n",
       "      <td>crime,drama,fantasy,horror,romance comedyprogr...</td>\n",
       "    </tr>\n",
       "    <tr>\n",
       "      <th>1</th>\n",
       "      <td>howtobuildagirl</td>\n",
       "      <td>comedy</td>\n",
       "      <td>dramas,comedies,filmsbasedonbooks,british</td>\n",
       "      <td>cleo,paddyconsidine,beaniefeldstein,dónalfinn</td>\n",
       "      <td>r</td>\n",
       "      <td>comedy dramas,comedies,filmsbasedonbooks,briti...</td>\n",
       "    </tr>\n",
       "  </tbody>\n",
       "</table>\n",
       "</div>"
      ],
      "text/plain": [
       "             Title                               Genre  \\\n",
       "0   letsfightghost  crime,drama,fantasy,horror,romance   \n",
       "1  howtobuildagirl                              comedy   \n",
       "\n",
       "                                                Tags  \\\n",
       "0  comedyprogrammes,romantictvcomedies,horrorprog...   \n",
       "1          dramas,comedies,filmsbasedonbooks,british   \n",
       "\n",
       "                                              Actors ViewerRating  \\\n",
       "0  linaleandersson,kårehedebrant,perragnar,henrik...            r   \n",
       "1      cleo,paddyconsidine,beaniefeldstein,dónalfinn            r   \n",
       "\n",
       "                                                soup  \n",
       "0  crime,drama,fantasy,horror,romance comedyprogr...  \n",
       "1  comedy dramas,comedies,filmsbasedonbooks,briti...  "
      ]
     },
     "execution_count": 28,
     "metadata": {},
     "output_type": "execute_result"
    }
   ],
   "source": [
    "selected_data.reset_index(inplace = True)\n",
    "selected_data.head(2)"
   ]
  },
  {
   "cell_type": "code",
   "execution_count": 29,
   "metadata": {},
   "outputs": [
    {
     "data": {
      "text/plain": [
       "Title\n",
       "letsfightghost                              0\n",
       "howtobuildagirl                             1\n",
       "thecon-heartist                             2\n",
       "glebokawoda                                 3\n",
       "onlyamother                                 4\n",
       "                                         ... \n",
       "13goingon30                              9127\n",
       "life2.0                                  9128\n",
       "brandnewday                              9129\n",
       "danielarends:blessuretijd                9130\n",
       "dreamworkshappyholidaysfrommadagascar    9131\n",
       "Length: 9132, dtype: int64"
      ]
     },
     "execution_count": 29,
     "metadata": {},
     "output_type": "execute_result"
    }
   ],
   "source": [
    "indices = pd.Series(selected_data.index, index=selected_data['Title'])\n",
    "indices"
   ]
  },
  {
   "cell_type": "code",
   "execution_count": 30,
   "metadata": {},
   "outputs": [],
   "source": [
    "result = 0\n",
    "def get_recommendations(title, cosine_sim):\n",
    "    global result\n",
    "    title=title.replace(' ','').lower()\n",
    "    idx = indices[title]\n",
    "    sim_scores = list(enumerate(cosine_sim[idx]))\n",
    "    sim_scores = sorted(sim_scores, key=lambda x: x[1], reverse=True)\n",
    "    sim_scores = sim_scores[1:51]\n",
    "    movie_indices = [i[0] for i in sim_scores]\n",
    "    result =  netflix_data.iloc[movie_indices]\n",
    "    result.reset_index(inplace = True)\n",
    "    return result"
   ]
  },
  {
   "cell_type": "code",
   "execution_count": 31,
   "metadata": {},
   "outputs": [],
   "source": [
    "df = pd.DataFrame()\n",
    "movienames = ['Annabelle Comes Home','The Nun', 'Insidious: The Last Key', 'Conjuring 2', 'Insidious: Chapter 3']\n",
    "languages = ['English', 'Hindi']\n",
    "for moviename in movienames:\n",
    "    get_recommendations(moviename,cosine_sim2)\n",
    "    for language in languages:\n",
    "        df = pd.concat([result[result['Languages'].str.count(language) > 0], df], ignore_index=True)\n",
    "df.drop_duplicates(keep = 'first', inplace = True)\n",
    "df.sort_values(by = 'IMDb Score', ascending = False, inplace = True)"
   ]
  },
  {
   "cell_type": "code",
   "execution_count": 32,
   "metadata": {},
   "outputs": [
    {
     "name": "stdout",
     "output_type": "stream",
     "text": [
      "(118, 22)\n",
      "             Title                             Genre  \\\n",
      "114     The Others         Horror, Mystery, Thriller   \n",
      "50   The Conjuring         Horror, Mystery, Thriller   \n",
      "169     Hereditary  Drama, Horror, Mystery, Thriller   \n",
      "105          Split                  Horror, Thriller   \n",
      "201    Conjuring 2         Horror, Mystery, Thriller   \n",
      "\n",
      "                                                  Tags         Languages  \\\n",
      "114  20th Century Period Pieces,Thrillers,Mysteries...           English   \n",
      "50   Horror Films,Thrillers,Supernatural Horror Fil...    English, Latin   \n",
      "169  Supernatural Horror Movies,Horror Movies,Teen ...  English, Spanish   \n",
      "105  Psychological Thrillers,Horror Movies,Thriller...           English   \n",
      "201  Horror Films,Supernatural Horror Films,Films B...           English   \n",
      "\n",
      "                                  Country Availability   Runtime  \\\n",
      "114  Italy,Sweden,Switzerland,Turkey,Iceland,India,...  1-2 hour   \n",
      "50   France,Belgium,Lithuania,Switzerland,United Ki...  1-2 hour   \n",
      "169      South Korea,United Kingdom,Canada,Japan,India   > 2 hrs   \n",
      "105  Belgium,Netherlands,South Korea,Poland,France,...  1-2 hour   \n",
      "201  South Korea,Switzerland,Brazil,Germany,Italy,A...   > 2 hrs   \n",
      "\n",
      "               Director                                             Writer  \\\n",
      "114  Alejandro Amenábar                                 Alejandro Amenábar   \n",
      "50            James Wan                         Chad Hayes, Carey W. Hayes   \n",
      "169           Ari Aster                                          Ari Aster   \n",
      "105  M. Night Shyamalan                                 M. Night Shyamalan   \n",
      "201           James Wan  Chad Hayes, David Leslie Johnson-McGoldrick, J...   \n",
      "\n",
      "                                                Actors ViewerRating  ...  \\\n",
      "114  Alakina Mann, Christopher Eccleston, Fionnula ...        PG-13  ...   \n",
      "50   Vera Farmiga, Lili Taylor, Ron Livingston, Pat...            R  ...   \n",
      "169  Alex Wolff, Milly Shapiro, Toni Collette, Gabr...            R  ...   \n",
      "105  Haley Lu Richardson, James McAvoy, Anya Taylor...        PG-13  ...   \n",
      "201  Frances O'Connor, Vera Farmiga, Madison Wolfe,...            R  ...   \n",
      "\n",
      "     Awards Nominated For      Boxoffice  Release Date Netflix Release Date  \\\n",
      "114                  55.0   $9,65,22,687     10-Aug-01           14-04-2015   \n",
      "50                   22.0  $13,74,00,141     19-Jul-13           14-04-2015   \n",
      "169                 105.0   $4,40,69,456     08-Jun-18           15-02-2019   \n",
      "105                  23.0  $13,82,91,365     20-Jan-17           17-09-2018   \n",
      "201                  13.0  $10,24,70,008     10-Jun-16           28-03-2017   \n",
      "\n",
      "                                      Production House  \\\n",
      "114  Lucky Red, Miramax Films, Sogecine, Cruise-Wag...   \n",
      "50               Safran Company, Evergreen Media Group   \n",
      "169                                     PalmStar Media   \n",
      "105  Lightning Entertainment, Blinding Edge Picture...   \n",
      "201                     Safran Company, Atomic Monster   \n",
      "\n",
      "                               Netflix Link  \\\n",
      "114  https://www.netflix.com/watch/60021097   \n",
      "50   https://www.netflix.com/watch/70251894   \n",
      "169  https://www.netflix.com/watch/80238910   \n",
      "105  https://www.netflix.com/watch/80124506   \n",
      "201  https://www.netflix.com/watch/80091246   \n",
      "\n",
      "                                               Summary Series or Movie  \\\n",
      "114  While awaiting the return of her soldier husba...           Movie   \n",
      "50   Based on true events, this spine-chiller tells...           Movie   \n",
      "169  After the death of her mother, artist Annie an...           Movie   \n",
      "105  A man with multiple identities abducts three t...           Movie   \n",
      "201  A single mother and her four kids in London ar...           Movie   \n",
      "\n",
      "    IMDb Votes                                              Image  \n",
      "114   338889.0  https://occ-0-3377-185.1.nflxso.net/dnm/api/v6...  \n",
      "50    443192.0  https://occ-0-2851-38.1.nflxso.net/dnm/api/v6/...  \n",
      "169   241835.0  https://occ-0-1926-41.1.nflxso.net/dnm/api/v6/...  \n",
      "105   428760.0  https://occ-0-768-769.1.nflxso.net/dnm/api/v6/...  \n",
      "201   226713.0  https://occ-0-2773-2774.1.nflxso.net/dnm/api/v...  \n",
      "\n",
      "[5 rows x 22 columns]\n"
     ]
    }
   ],
   "source": [
    "print(df.shape)\n",
    "print(df.head())"
   ]
  },
  {
   "cell_type": "code",
   "execution_count": null,
   "metadata": {},
   "outputs": [],
   "source": []
  }
 ],
 "metadata": {
  "kernelspec": {
   "display_name": "TF",
   "language": "python",
   "name": "python3"
  },
  "language_info": {
   "codemirror_mode": {
    "name": "ipython",
    "version": 3
   },
   "file_extension": ".py",
   "mimetype": "text/x-python",
   "name": "python",
   "nbconvert_exporter": "python",
   "pygments_lexer": "ipython3",
   "version": "3.9.18"
  },
  "orig_nbformat": 4
 },
 "nbformat": 4,
 "nbformat_minor": 2
}
